{
 "cells": [
  {
   "cell_type": "markdown",
   "id": "computational-puppy",
   "metadata": {},
   "source": [
    "170857\n",
    "Feliciano\n",
    "4 BS Management"
   ]
  },
  {
   "cell_type": "code",
   "execution_count": 1,
   "id": "incorporated-anxiety",
   "metadata": {},
   "outputs": [
    {
     "name": "stdout",
     "output_type": "stream",
     "text": [
      "Enter first number:10\n",
      "Enter second number:150\n",
      "Enter third number:321\n",
      "The average is 160.33333333333334\n"
     ]
    }
   ],
   "source": [
    "# average of 3 integers\n",
    "def three_number_average(first, second, third):\n",
    "    print('The average is {}'.format((first + second + third)/3))\n",
    "    \n",
    "    \n",
    "# take in inputs\n",
    "first = int(input('Enter first number:' ))\n",
    "second = int(input('Enter second number:' ))\n",
    "third = int(input('Enter third number:' ))\n",
    "\n",
    "\n",
    "three_number_average(first, second, third)"
   ]
  }
 ],
 "metadata": {
  "kernelspec": {
   "display_name": "Python 3",
   "language": "python",
   "name": "python3"
  },
  "language_info": {
   "codemirror_mode": {
    "name": "ipython",
    "version": 3
   },
   "file_extension": ".py",
   "mimetype": "text/x-python",
   "name": "python",
   "nbconvert_exporter": "python",
   "pygments_lexer": "ipython3",
   "version": "3.9.1"
  }
 },
 "nbformat": 4,
 "nbformat_minor": 5
}
