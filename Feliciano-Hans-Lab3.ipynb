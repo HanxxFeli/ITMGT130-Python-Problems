{
 "cells": [
  {
   "cell_type": "markdown",
   "id": "spread-renaissance",
   "metadata": {},
   "source": [
    " 170857\n",
    " Feliciano\n",
    " 4 BS MGT"
   ]
  },
  {
   "cell_type": "markdown",
   "id": "reported-renewal",
   "metadata": {},
   "source": [
    "# Problem 1"
   ]
  },
  {
   "cell_type": "code",
   "execution_count": 1,
   "id": "dominican-think",
   "metadata": {},
   "outputs": [],
   "source": [
    "# Social Media Example\n",
    "def relationship_status(from_member, to_member):\n",
    "    if from_member in social_graph[to_member]['following']:\n",
    "        if to_member in social_graph[from_member]['following']:\n",
    "             print('friends')\n",
    "        else: \n",
    "            print('followed by')\n",
    "    elif to_member in social_graph[from_member]['following']:\n",
    "        print('follower')\n",
    "    else:\n",
    "        return None\n",
    "\n",
    "        \n",
    "        \n",
    "# Social Graph\n",
    "social_graph = {\n",
    "    \"@bongolpoc\":{\"first_name\":\"Joselito\",\n",
    "                  \"last_name\":\"Olpoc\",\n",
    "                  \"following\":[\n",
    "                  ]\n",
    "    },\n",
    "    \"@joaquin\":  {\"first_name\":\"Joaquin\",\n",
    "                  \"last_name\":\"Gonzales\",\n",
    "                  \"following\":[\n",
    "                      \"@chums\",\"@jobenilagan\"\n",
    "                  ]\n",
    "    },\n",
    "    \"@chums\" : {\"first_name\":\"Matthew\",\n",
    "                \"last_name\":\"Uy\",\n",
    "                \"following\":[\n",
    "                    \"@bongolpoc\",\"@miketan\",\"@rudyang\",\"@joeilagan\"\n",
    "                ]\n",
    "    },\n",
    "    \"@jobenilagan\":{\"first_name\":\"Joben\",\n",
    "                   \"last_name\":\"Ilagan\",\n",
    "                   \"following\":[\n",
    "                    \"@eeebeee\",\"@joeilagan\",\"@chums\",\"@joaquin\"\n",
    "                   ]\n",
    "    },\n",
    "    \"@joeilagan\":{\"first_name\":\"Joe\",\n",
    "                  \"last_name\":\"Ilagan\",\n",
    "                  \"following\":[\n",
    "                    \"@eeebeee\",\"@jobenilagan\",\"@chums\"\n",
    "                  ]\n",
    "    },\n",
    "    \"@eeebeee\":  {\"first_name\":\"Elizabeth\",\n",
    "                  \"last_name\":\"Ilagan\",\n",
    "                  \"following\":[\n",
    "                    \"@jobenilagan\",\"@joeilagan\"\n",
    "                  ]\n",
    "    },\n",
    "}"
   ]
  },
  {
   "cell_type": "code",
   "execution_count": 2,
   "id": "eight-housing",
   "metadata": {},
   "outputs": [
    {
     "name": "stdout",
     "output_type": "stream",
     "text": [
      "friends\n",
      "follower\n",
      "followed by\n",
      "None\n"
     ]
    }
   ],
   "source": [
    "# Social Media Example Cases \n",
    "relationship_status(\"@chums\",\"@joeilagan\") # friends\n",
    "relationship_status(\"@jobenilagan\",\"@chums\") # follower\n",
    "relationship_status(\"@chums\",\"@jobenilagan\") # followed by\n",
    "print(relationship_status(\"@bongolpoc\",\"@jobenilagan\")) # None"
   ]
  },
  {
   "cell_type": "markdown",
   "id": "embedded-translator",
   "metadata": {},
   "source": [
    "# Problem 2"
   ]
  },
  {
   "cell_type": "code",
   "execution_count": 3,
   "id": "intended-regard",
   "metadata": {},
   "outputs": [
    {
     "data": {
      "text/plain": [
       "2"
      ]
     },
     "execution_count": 3,
     "metadata": {},
     "output_type": "execute_result"
    }
   ],
   "source": [
    "# Boards\n",
    "board1 = [\n",
    "['X','X','O'],\n",
    "['O','X','O'],\n",
    "['O','','X'],\n",
    "]\n",
    "\n",
    "board2 = [\n",
    "['X','X','O'],\n",
    "['O','X','O'],\n",
    "['','O','X'],\n",
    "]\n",
    "\n",
    "board3 = [\n",
    "['O','X','O'],\n",
    "['','O','X'],\n",
    "['X','X','O'],\n",
    "]\n",
    "\n",
    "board4 = [\n",
    "['X','X','X'],\n",
    "['O','X','O'],\n",
    "['O','','O'],\n",
    "]\n",
    "\n",
    "board5 = [\n",
    "['X','X','O'],\n",
    "['O','X','O'],\n",
    "['X','','O'],\n",
    "]\n",
    "\n",
    "board6 = [\n",
    "['X','X','O'],\n",
    "['O','X','O'],\n",
    "['X','',''],\n",
    "]\n",
    "\n",
    "def get_diag(board):\n",
    "    diagonal = [board[i][i] for i in range(3)]\n",
    "    return len(set(diagonal))\n",
    "get_diag(board5)"
   ]
  },
  {
   "cell_type": "code",
   "execution_count": 9,
   "id": "pretty-password",
   "metadata": {},
   "outputs": [],
   "source": [
    "def get_winner(board):\n",
    "    \"\"\"get winner and check if its 'X' or 'O'\"\"\"\n",
    "    winner = None\n",
    "    \n",
    "    # check rows \n",
    "    for row in range(3):\n",
    "        if len(set(board[row])) == 1 and board[row] != ' ':\n",
    "            winner = board[row][0]\n",
    "            return winner\n",
    "    \n",
    "    # check columns\n",
    "    for columns in zip(*board):\n",
    "        if len(set(columns)) == 1:\n",
    "            winner = columns[0]\n",
    "            return winner\n",
    "    \n",
    "    # check diagonal \\\n",
    "    diagonal = [board[i][i] for i in range(3)]\n",
    "    if len(set(diagonal)) == 1:\n",
    "        winner = board[1][1] #center will always be part of diag winner\n",
    "        return winner\n",
    "    \n",
    "    # check diagonal /\n",
    "    diagonal = [board[3-1-i][i] for i in range(3)]\n",
    "    if len(set(diagonal)) == 1:\n",
    "        winner = board[1][1] #center will always be part of diag winner\n",
    "        return winner\n",
    "    \n",
    "    # If there was no winner    \n",
    "    return winner\n",
    "    \n",
    "\n",
    "get_winner(board6)   "
   ]
  },
  {
   "cell_type": "code",
   "execution_count": 10,
   "id": "unlike-plymouth",
   "metadata": {},
   "outputs": [
    {
     "name": "stdout",
     "output_type": "stream",
     "text": [
      "X\n",
      "X\n",
      "O\n",
      "X\n",
      "O\n",
      "None\n"
     ]
    }
   ],
   "source": [
    "# Board 1 winnner: X diag\n",
    "print(get_winner(board1))\n",
    "\n",
    "# Board 2 winnner: X diag\n",
    "print(get_winner(board2))\n",
    "\n",
    "# Board 3 winnner: 0 diag\n",
    "print(get_winner(board3))\n",
    "\n",
    "# Board 4 winnner: X row\n",
    "print(get_winner(board4))\n",
    "\n",
    "# Board 5 winnner: O column\n",
    "print(get_winner(board5))\n",
    "\n",
    "# Board 6 winner: None\n",
    "print(get_winner(board6))"
   ]
  },
  {
   "cell_type": "markdown",
   "id": "assigned-psychology",
   "metadata": {},
   "source": [
    "# Problem 3"
   ]
  },
  {
   "cell_type": "code",
   "execution_count": null,
   "id": "moving-colonial",
   "metadata": {},
   "outputs": [],
   "source": [
    "# Legs\n",
    "legs = {\n",
    "     (\"upd\",\"admu\"):{\n",
    "         \"travel_time_mins\":10\n",
    "     },\n",
    "     (\"admu\",\"dlsu\"):{\n",
    "         \"travel_time_mins\":35\n",
    "     },\n",
    "     (\"dlsu\",\"upd\"):{\n",
    "         \"travel_time_mins\":55\n",
    "     }\n",
    "}\n"
   ]
  },
  {
   "cell_type": "code",
   "execution_count": null,
   "id": "harmful-projection",
   "metadata": {},
   "outputs": [],
   "source": [
    "#place all keys in a list\n",
    "keys = list(legs.keys())\n",
    "\n",
    "# getting the time of the source\n",
    "def source_time(source):\n",
    "    for i in range(len(keys)):\n",
    "        if keys[i][0] == source:\n",
    "            source_travel_time = legs[keys[i]]\n",
    "            source_time = source_travel_time[\"travel_time_mins\"]\n",
    "            return source_time\n",
    "        \n",
    "\n",
    "#getting the time of the destination     \n",
    "def destination_time(destination):\n",
    "    for i in range(len(keys)):\n",
    "        if keys[i][1] == destination:\n",
    "            dest_travel_time = legs[keys[i]]\n",
    "            dest_time = dest_travel_time[\"travel_time_mins\"]\n",
    "            return dest_time"
   ]
  },
  {
   "cell_type": "code",
   "execution_count": null,
   "id": "embedded-framework",
   "metadata": {},
   "outputs": [],
   "source": [
    "# eta function\n",
    "def eta(source, destination):\n",
    "    for i in range(len(keys)):\n",
    "        if keys[i][0] == source and keys[i][1] == destination:\n",
    "            travel_time = legs[keys[i]]\n",
    "            return travel_time[\"travel_time_mins\"]\n",
    "            break\n",
    "        else:\n",
    "            from_time = source_time(source)\n",
    "            to_time = destination_time(destination)\n",
    "            return from_time + to_time  "
   ]
  },
  {
   "cell_type": "code",
   "execution_count": null,
   "id": "female-telephone",
   "metadata": {},
   "outputs": [],
   "source": [
    "#test cases\n",
    "print(eta('admu','upd'))\n",
    "print(eta('dlsu', 'admu'))\n",
    "print(eta('upd','admu'))"
   ]
  },
  {
   "cell_type": "code",
   "execution_count": null,
   "id": "traditional-cartoon",
   "metadata": {},
   "outputs": [],
   "source": []
  }
 ],
 "metadata": {
  "kernelspec": {
   "display_name": "Python 3",
   "language": "python",
   "name": "python3"
  },
  "language_info": {
   "codemirror_mode": {
    "name": "ipython",
    "version": 3
   },
   "file_extension": ".py",
   "mimetype": "text/x-python",
   "name": "python",
   "nbconvert_exporter": "python",
   "pygments_lexer": "ipython3",
   "version": "3.9.1"
  }
 },
 "nbformat": 4,
 "nbformat_minor": 5
}
