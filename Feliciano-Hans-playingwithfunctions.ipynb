{
 "cells": [
  {
   "cell_type": "markdown",
   "id": "worst-wealth",
   "metadata": {},
   "source": [
    "170857 Feliciano 4 BS Management"
   ]
  },
  {
   "cell_type": "code",
   "execution_count": 3,
   "id": "behind-tattoo",
   "metadata": {},
   "outputs": [],
   "source": [
    "# area of a circle\n",
    "def circle_area(circumference):\n",
    "    pi = 3.1416\n",
    "    r = float(circumference / (2 * pi))\n",
    "    area = pi * (r ** 2)\n",
    "    return area"
   ]
  },
  {
   "cell_type": "code",
   "execution_count": 1,
   "id": "coastal-breath",
   "metadata": {},
   "outputs": [
    {
     "name": "stdout",
     "output_type": "stream",
     "text": [
      "Enter a 5 letter word:leter\n",
      "retel\n"
     ]
    }
   ],
   "source": [
    "# reverse string\n",
    "word = input(\"Enter a 5 letter word:\")\n",
    "if len(word) != 5:\n",
    "    print(\"That is not a 5 letter word, try again!\")\n",
    "else:\n",
    "\n",
    "    def reverse_string(word):\n",
    "        return word[::-1]\n",
    "\n",
    "    print(reverse_string(word))"
   ]
  },
  {
   "cell_type": "code",
   "execution_count": 2,
   "id": "swiss-happiness",
   "metadata": {},
   "outputs": [],
   "source": [
    "# back addition\n",
    "def backAddition(num):\n",
    "    total = 0\n",
    "    for number in range(num + 1):\n",
    "        total += number\n",
    "    return total"
   ]
  },
  {
   "cell_type": "code",
   "execution_count": 4,
   "id": "painful-roulette",
   "metadata": {},
   "outputs": [
    {
     "name": "stdout",
     "output_type": "stream",
     "text": [
      "The answer is:25164150\n"
     ]
    }
   ],
   "source": [
    "# get sum of squares\n",
    "def sum_sqaures():\n",
    "    total = 0\n",
    "    for i in range(1, 101):\n",
    "        total += i * i\n",
    "    return total\n",
    "\n",
    "\n",
    "# get square of sums\n",
    "def square_sums():\n",
    "    total = 0\n",
    "    for i in range(1, 101):\n",
    "        total += i\n",
    "    return total * total\n",
    "\n",
    "\n",
    "print(\"The answer is:{}\".format(square_sums() - sum_sqaures()))"
   ]
  },
  {
   "cell_type": "code",
   "execution_count": 5,
   "id": "skilled-width",
   "metadata": {},
   "outputs": [
    {
     "name": "stdout",
     "output_type": "stream",
     "text": [
      "Enter a positive integer: 253\n",
      "2\n",
      "2\n",
      "0\n",
      "0\n",
      "3\n"
     ]
    }
   ],
   "source": [
    "# point of sale\n",
    "cents = float(input(\"Enter a positive integer: \"))\n",
    "if cents <= 0:\n",
    "    print(\"That is not a positive integer\")\n",
    "else:\n",
    "    peso = int(cents / 100)\n",
    "    print(peso)\n",
    "    r = cents % 100\n",
    "    cents_25 = int(r / 25)\n",
    "    print(cents_25)\n",
    "    r = cents % 25\n",
    "    cents_10 = int(r / 10)\n",
    "    print(cents_10)\n",
    "    r = cents % 10\n",
    "    cents_5 = int(r / 5)\n",
    "    print(cents_5)\n",
    "    r = cents % 5\n",
    "    cent = int(r / 1)\n",
    "    print(cent)"
   ]
  },
  {
   "cell_type": "code",
   "execution_count": null,
   "id": "talented-conditioning",
   "metadata": {},
   "outputs": [],
   "source": []
  }
 ],
 "metadata": {
  "kernelspec": {
   "display_name": "Python 3",
   "language": "python",
   "name": "python3"
  },
  "language_info": {
   "codemirror_mode": {
    "name": "ipython",
    "version": 3
   },
   "file_extension": ".py",
   "mimetype": "text/x-python",
   "name": "python",
   "nbconvert_exporter": "python",
   "pygments_lexer": "ipython3",
   "version": "3.9.1"
  }
 },
 "nbformat": 4,
 "nbformat_minor": 5
}
