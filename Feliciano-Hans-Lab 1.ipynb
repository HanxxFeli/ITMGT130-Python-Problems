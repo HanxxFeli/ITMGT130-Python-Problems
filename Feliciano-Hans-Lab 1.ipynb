{
 "cells": [
  {
   "cell_type": "markdown",
   "id": "opening-lightweight",
   "metadata": {},
   "source": [
    "170857\n",
    "Feliciano\n",
    "4 BS Management"
   ]
  },
  {
   "cell_type": "code",
   "execution_count": 7,
   "id": "minor-diagram",
   "metadata": {},
   "outputs": [
    {
     "name": "stdout",
     "output_type": "stream",
     "text": [
      "Enter the amount in US Dollars: 125\n",
      "125.0 US Dollar(s) = 6250.0 Philippine Pesos\n"
     ]
    }
   ],
   "source": [
    "# dollar converter \n",
    "def dollar_to_pesos(dollar):\n",
    "    peso = dollar * 50\n",
    "    print(f'{dollar} US Dollar(s) = {peso} Philippine Pesos')\n",
    "    \n",
    "dollar = float(input('Enter the amount in US Dollars: '))  \n",
    "dollar_to_pesos(dollar)"
   ]
  },
  {
   "cell_type": "code",
   "execution_count": 6,
   "id": "scientific-envelope",
   "metadata": {},
   "outputs": [
    {
     "name": "stdout",
     "output_type": "stream",
     "text": [
      "Enter a positive integer: 55\n",
      "Enter another positive integer: 3\n",
      "58\n",
      "52\n",
      "165\n",
      "18\n",
      "1\n"
     ]
    }
   ],
   "source": [
    "a = int(input('Enter a positive integer: '))\n",
    "b = int(input('Enter another positive integer: '))\n",
    "\n",
    "if a <= 0 or b <= 0:\n",
    "    print('That is not a positive integer!')\n",
    "else:\n",
    "    def operations(a, b):\n",
    "        print(a + b)\n",
    "        print(a - b)\n",
    "        print(a * b)\n",
    "        print(int(a / b))\n",
    "        print(a % b)\n",
    "        \n",
    "operations(a, b)"
   ]
  },
  {
   "cell_type": "code",
   "execution_count": 21,
   "id": "awful-sunset",
   "metadata": {},
   "outputs": [
    {
     "name": "stdout",
     "output_type": "stream",
     "text": [
      "Enter kg: 65\n",
      "Enter cm: 180\n",
      "BMI 20.061728395061728\n"
     ]
    }
   ],
   "source": [
    "def convert_cm_to_m(cm):\n",
    "    float(cm)\n",
    "    return cm * 0.01\n",
    "\n",
    "def compute_bmi(weight, height):\n",
    "    bmi = float(weight / height**2)\n",
    "    print(f'BMI {bmi}')\n",
    "\n",
    "kg = float(input('Enter kg: '))\n",
    "m = float(convert_cm_to_m(float(input('Enter cm: '))))\n",
    "compute_bmi(kg, m)"
   ]
  },
  {
   "cell_type": "code",
   "execution_count": null,
   "id": "simplified-midnight",
   "metadata": {},
   "outputs": [],
   "source": []
  }
 ],
 "metadata": {
  "kernelspec": {
   "display_name": "Python 3",
   "language": "python",
   "name": "python3"
  },
  "language_info": {
   "codemirror_mode": {
    "name": "ipython",
    "version": 3
   },
   "file_extension": ".py",
   "mimetype": "text/x-python",
   "name": "python",
   "nbconvert_exporter": "python",
   "pygments_lexer": "ipython3",
   "version": "3.9.1"
  }
 },
 "nbformat": 4,
 "nbformat_minor": 5
}
